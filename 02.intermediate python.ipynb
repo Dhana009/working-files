{
 "cells": [
  {
   "cell_type": "markdown",
   "id": "0a99e68a",
   "metadata": {},
   "source": [
    "# Regex"
   ]
  },
  {
   "cell_type": "code",
   "execution_count": null,
   "id": "f730c15b",
   "metadata": {},
   "outputs": [],
   "source": [
    "import regex as re"
   ]
  },
  {
   "cell_type": "markdown",
   "id": "0fda86f2",
   "metadata": {},
   "source": [
    "# character class , backslash, alteration, quantifiers, greedy and non greedy, boundary macthers, splitting, substitution"
   ]
  },
  {
   "cell_type": "markdown",
   "id": "512bd352",
   "metadata": {},
   "source": [
    "## match, search, findall, finditer"
   ]
  },
  {
   "cell_type": "code",
   "execution_count": null,
   "id": "8f3c01f9",
   "metadata": {},
   "outputs": [],
   "source": [
    "x = re.compile('apple')"
   ]
  },
  {
   "cell_type": "code",
   "execution_count": null,
   "id": "22160782",
   "metadata": {},
   "outputs": [],
   "source": [
    "x.match('apple is mine')"
   ]
  },
  {
   "cell_type": "code",
   "execution_count": null,
   "id": "f0909495",
   "metadata": {},
   "outputs": [],
   "source": [
    "x.search('apple is mine apple',pos=5)"
   ]
  },
  {
   "cell_type": "code",
   "execution_count": null,
   "id": "8e746922",
   "metadata": {},
   "outputs": [],
   "source": [
    "x.findall('apple is mine apple')"
   ]
  },
  {
   "cell_type": "code",
   "execution_count": null,
   "id": "1a5f2c12",
   "metadata": {},
   "outputs": [],
   "source": [
    "x.finditer('apple is mine')"
   ]
  },
  {
   "cell_type": "code",
   "execution_count": null,
   "id": "47795306",
   "metadata": {},
   "outputs": [],
   "source": []
  },
  {
   "cell_type": "markdown",
   "id": "2ff30271",
   "metadata": {},
   "source": [
    "# Predefined Character Classes"
   ]
  },
  {
   "cell_type": "code",
   "execution_count": null,
   "id": "e79dcde2",
   "metadata": {},
   "outputs": [],
   "source": [
    "'''There exist some predefined character classes which can be used as a shortcut for some frequently used classes.\n",
    "\n",
    "Element\tDescription.    \n",
    ".\tThis element matches any character except newline      \n",
    "\\d: Matches any digit (equivalent to [0-9])\n",
    "\\w: Matches any word character (equivalent to [a-zA-Z0-9_])\n",
    "\\s: Matches any whitespace character (including spaces, tabs, and newlines)\n",
    "\\D: Matches any non-digit character\n",
    "\\W: Matches any non-word character\n",
    "\\S: Matches any non-whitespace character'''"
   ]
  },
  {
   "cell_type": "code",
   "execution_count": null,
   "id": "d9153fd6",
   "metadata": {},
   "outputs": [],
   "source": [
    "txt = \"\"\"\n",
    "Thw first season of Indian Premiere League (IPL) was played in 2008. \n",
    "The second season was played in 2009 in South Africa. \n",
    "Last season was played in 2018 and won by Chennai Super Kings (CSK).\n",
    "CSK won the title in 2010 and 2011 as well.\n",
    "Mumbai Indians (MI) has also won the title 3 times in 2013, 2015 and 2017.\n",
    "\"\"\""
   ]
  },
  {
   "cell_type": "code",
   "execution_count": null,
   "id": "c2f71de0",
   "metadata": {},
   "outputs": [],
   "source": [
    "re.findall('\\d\\d\\d\\d',txt)"
   ]
  },
  {
   "cell_type": "code",
   "execution_count": null,
   "id": "ced0da57",
   "metadata": {},
   "outputs": [],
   "source": [
    "re.findall('Th[e|w]',txt)"
   ]
  },
  {
   "cell_type": "code",
   "execution_count": null,
   "id": "400905fd",
   "metadata": {},
   "outputs": [],
   "source": []
  },
  {
   "cell_type": "markdown",
   "id": "1652e9aa",
   "metadata": {},
   "source": [
    "# backslash and alteration\n"
   ]
  },
  {
   "cell_type": "code",
   "execution_count": null,
   "id": "f305aa0e",
   "metadata": {},
   "outputs": [],
   "source": [
    "txt1 = \"\"\"\n",
    "C:\\Windows\n",
    "C:\\Python\n",
    "C:\\Windows\\System32\n",
    "\"\"\""
   ]
  },
  {
   "cell_type": "code",
   "execution_count": null,
   "id": "d5488993",
   "metadata": {},
   "outputs": [],
   "source": [
    "re.escape('C:\\Windows\\System32')"
   ]
  },
  {
   "cell_type": "code",
   "execution_count": null,
   "id": "28108840",
   "metadata": {},
   "outputs": [],
   "source": [
    "re.findall('C:\\\\\\\\Windows\\\\\\\\System32',txt1)"
   ]
  },
  {
   "cell_type": "code",
   "execution_count": null,
   "id": "296f71ab",
   "metadata": {},
   "outputs": [],
   "source": [
    "re.findall('and|or|the',txt)"
   ]
  },
  {
   "cell_type": "code",
   "execution_count": null,
   "id": "980171cb",
   "metadata": {},
   "outputs": [],
   "source": []
  },
  {
   "cell_type": "markdown",
   "id": "889b479f",
   "metadata": {},
   "source": [
    "# Quantifiers"
   ]
  },
  {
   "cell_type": "code",
   "execution_count": null,
   "id": "8012b655",
   "metadata": {},
   "outputs": [],
   "source": [
    "'''Quantifiers are the mechanisms to define how a character, metacharacter, or character set can be repeated.       \n",
    "\n",
    "Here is the list of 4 basic quantifers:          \n",
    " \n",
    "Symbol   \t Name\t         Quantification of previous character           \n",
    "?\t       Question Mark\t  Optional (0 or 1 repetitions)         \n",
    "*\t      Asterisk      \t  Zero or more times          \n",
    "+\t      Plus Sign\t           One or more times           \n",
    "{n,m}     Curly Braces\t       Between n and m times\n",
    "\n",
    "[] (square brackets): Matches any character enclosed within the brackets\n",
    "'''           "
   ]
  },
  {
   "cell_type": "code",
   "execution_count": null,
   "id": "d218258f",
   "metadata": {},
   "outputs": [],
   "source": [
    "'''We can use the curly brackets syntax here with these modifications:\n",
    "\n",
    "Syntax\tDescription\n",
    "{n}\tThe previous character is repeated exactly n times.\n",
    "{n,}\tThe previous character is repeated at least n times.\n",
    "{,n}\tThe previous character is repeated at most n times.\n",
    "{n,m}\tThe previous character is repeated between n and m times (both inclusive).'''"
   ]
  },
  {
   "cell_type": "code",
   "execution_count": null,
   "id": "75b57ec2",
   "metadata": {},
   "outputs": [],
   "source": [
    "txt2 = \"\"\"\n",
    "I have 2 dogs. One dog is 1 year old and other one is 2 years old. Both dogs are very cute! \n",
    "\"\"\""
   ]
  },
  {
   "cell_type": "code",
   "execution_count": null,
   "id": "fe49604a",
   "metadata": {},
   "outputs": [],
   "source": [
    "re.findall('dogs?',txt2)"
   ]
  },
  {
   "cell_type": "markdown",
   "id": "5eeaca54",
   "metadata": {},
   "source": [
    "Example 2\n",
    "Find all filenames starting with file and ending with .txt in the given text."
   ]
  },
  {
   "cell_type": "code",
   "execution_count": null,
   "id": "9f440a17",
   "metadata": {},
   "outputs": [],
   "source": [
    "txt = \"\"\"\n",
    "file1.txt\n",
    "file_one.txt\n",
    "file.txt\n",
    "fil.txt\n",
    "file.xml\n",
    "file-1.txt\n",
    "\"\"\""
   ]
  },
  {
   "cell_type": "code",
   "execution_count": null,
   "id": "95666987",
   "metadata": {},
   "outputs": [],
   "source": [
    "re.findall('file\\d?\\.\\w*',txt)"
   ]
  },
  {
   "cell_type": "code",
   "execution_count": null,
   "id": "7d5770e7",
   "metadata": {},
   "outputs": [],
   "source": []
  },
  {
   "cell_type": "markdown",
   "id": "73edfd53",
   "metadata": {},
   "source": [
    "Example 4\n",
    "Find years in the given text."
   ]
  },
  {
   "cell_type": "code",
   "execution_count": null,
   "id": "24e3994d",
   "metadata": {},
   "outputs": [],
   "source": [
    "txt = \"\"\"\n",
    "The first season of Indian Premiere League (IPL) was played in 2008. \n",
    "The second season was played in 2009 in South Africa. \n",
    "Last season was played in 2018 and won by Chennai Super Kings (CSK).\n",
    "CSK won the title in 2010 and 2011 as well.\n",
    "Mumbai Indians (MI) has also won the title 3 times in 2013, 2015 and 2017.\n",
    "\"\"\""
   ]
  },
  {
   "cell_type": "code",
   "execution_count": null,
   "id": "bd0d32ac",
   "metadata": {},
   "outputs": [],
   "source": [
    "re.findall('\\d{4}',txt)"
   ]
  },
  {
   "cell_type": "markdown",
   "id": "31d0cf59",
   "metadata": {},
   "source": [
    "Example 6\n",
    "Write a pattern to validate telephone numbers.\n",
    "\n",
    "Telephone numbers can be of the form: 555-555-5555, 555 555 5555, 5555555555"
   ]
  },
  {
   "cell_type": "code",
   "execution_count": null,
   "id": "e901fbcd",
   "metadata": {},
   "outputs": [],
   "source": [
    "txt = '555-555-5555, 555 555 5555, 5555555555'"
   ]
  },
  {
   "cell_type": "code",
   "execution_count": null,
   "id": "e374e49d",
   "metadata": {},
   "outputs": [],
   "source": [
    "re.findall('\\d{3}[-?|\\s?|\\d]?\\d{3}[-?|\\s?|\\d]?\\d{3}',txt)"
   ]
  },
  {
   "cell_type": "code",
   "execution_count": null,
   "id": "1a912196",
   "metadata": {},
   "outputs": [],
   "source": []
  },
  {
   "cell_type": "markdown",
   "id": "92bff0c5",
   "metadata": {},
   "source": [
    "# Non-Greedy behaviour"
   ]
  },
  {
   "cell_type": "code",
   "execution_count": null,
   "id": "3a44e5cd",
   "metadata": {},
   "outputs": [],
   "source": [
    "'''\n",
    "The non-greedy (or reluctant) behaviour can be requested by adding an extra question mark to the quantifier.\n",
    "\n",
    "For example, ??, *? or +?.'''"
   ]
  },
  {
   "cell_type": "code",
   "execution_count": null,
   "id": "992ab851",
   "metadata": {},
   "outputs": [],
   "source": [
    "re.findall('\\d.*?\\d',txt)"
   ]
  },
  {
   "cell_type": "markdown",
   "id": "01ee2697",
   "metadata": {},
   "source": [
    "# Greedy behaviour"
   ]
  },
  {
   "cell_type": "code",
   "execution_count": null,
   "id": "e3bb7da4",
   "metadata": {},
   "outputs": [],
   "source": [
    "re.findall('\\d.*\\d',txt)"
   ]
  },
  {
   "cell_type": "code",
   "execution_count": null,
   "id": "a284d98d",
   "metadata": {},
   "outputs": [],
   "source": []
  },
  {
   "cell_type": "markdown",
   "id": "f84c7585",
   "metadata": {},
   "source": [
    "# boundary matchers"
   ]
  },
  {
   "cell_type": "code",
   "execution_count": null,
   "id": "fd8943bf",
   "metadata": {},
   "outputs": [],
   "source": [
    "'''Here is a table which shows the list of all boundary matchers available in Python:\n",
    "\n",
    "Matcher\tDescription\n",
    "^\tMatches at the beginning of a line\n",
    "$\tMatches at the end of a line\n",
    "\\b\tMatches a word boundary\n",
    "\\B\tMatches the opposite of \\b. Anything that is not a word boundary\n",
    "\\A\tMatches the beginning of the input\n",
    "\\Z\tMatches the end of the input'''"
   ]
  },
  {
   "cell_type": "code",
   "execution_count": null,
   "id": "6c1eee73",
   "metadata": {},
   "outputs": [],
   "source": [
    "txt = \"\"\"\n",
    "Name:\n",
    "Age: 0\n",
    "Roll No.: 15\n",
    "Grade: S\n",
    "\n",
    "Name: Ravi\n",
    "Age: -1\n",
    "Roll No.: 123 Name: ABC\n",
    "Grade: K\n",
    "\n",
    "Name: Ram\n",
    "Age: N/A\n",
    "Roll No.: 1\n",
    "Grade: G\n",
    "\"\"\""
   ]
  },
  {
   "cell_type": "markdown",
   "id": "2b8773ab",
   "metadata": {},
   "source": [
    "Example 1\n",
    "Consider a scenario where we want to find all the lines in the given text which start with the pattern Name:."
   ]
  },
  {
   "cell_type": "code",
   "execution_count": null,
   "id": "ee6dfcbd",
   "metadata": {},
   "outputs": [],
   "source": [
    "re.findall('^N.*$',txt,flags=re.M)"
   ]
  },
  {
   "cell_type": "markdown",
   "id": "97756c94",
   "metadata": {},
   "source": [
    "Example 2\n",
    "Find all the sentences which do not end with a full stop (.) in the given text."
   ]
  },
  {
   "cell_type": "code",
   "execution_count": null,
   "id": "9e5ff3db",
   "metadata": {},
   "outputs": [],
   "source": [
    "txt = \"\"\"\n",
    "Lorem Ipsum is simply dummy text of the printing and typesetting industry.\n",
    "Lorem Ipsum has been the industry's standard dummy text ever since the 1500s!\n",
    "It has survived not only five centuries, but also the leap into electronic typesetting, remaining essentially unchanged.\n",
    "It was popularised in the 1960s with the release of Letraset sheets containing Lorem Ipsum passages\n",
    "More recently with desktop publishing software like Aldus PageMaker including versions of Lorem Ipsum.\"\"\""
   ]
  },
  {
   "cell_type": "code",
   "execution_count": null,
   "id": "59ef742d",
   "metadata": {},
   "outputs": [],
   "source": [
    "re.findall('^.*[^\\.]$',txt,flags=re.M)"
   ]
  },
  {
   "cell_type": "code",
   "execution_count": null,
   "id": "71a4c057",
   "metadata": {},
   "outputs": [],
   "source": []
  },
  {
   "cell_type": "code",
   "execution_count": null,
   "id": "f7aaa315",
   "metadata": {},
   "outputs": [],
   "source": []
  },
  {
   "cell_type": "markdown",
   "id": "f36642c2",
   "metadata": {},
   "source": [
    "# Split using RegEx"
   ]
  },
  {
   "cell_type": "code",
   "execution_count": null,
   "id": "708d74c3",
   "metadata": {},
   "outputs": [],
   "source": [
    "txt"
   ]
  },
  {
   "cell_type": "code",
   "execution_count": null,
   "id": "cd470fff",
   "metadata": {},
   "outputs": [],
   "source": [
    "x = re.compile('is')"
   ]
  },
  {
   "cell_type": "code",
   "execution_count": null,
   "id": "59c03851",
   "metadata": {},
   "outputs": [],
   "source": [
    "x.split(txt)"
   ]
  },
  {
   "cell_type": "code",
   "execution_count": null,
   "id": "95f73fb5",
   "metadata": {},
   "outputs": [],
   "source": [
    "re.split('\\.',txt)"
   ]
  },
  {
   "cell_type": "code",
   "execution_count": null,
   "id": "32a61d6c",
   "metadata": {},
   "outputs": [],
   "source": [
    "re.split(' ',txt)"
   ]
  },
  {
   "cell_type": "code",
   "execution_count": null,
   "id": "6bb2f5e5",
   "metadata": {},
   "outputs": [],
   "source": []
  },
  {
   "cell_type": "code",
   "execution_count": null,
   "id": "f9058b89",
   "metadata": {},
   "outputs": [],
   "source": []
  },
  {
   "cell_type": "code",
   "execution_count": null,
   "id": "393a0316",
   "metadata": {},
   "outputs": [],
   "source": []
  },
  {
   "cell_type": "markdown",
   "id": "797c8df0",
   "metadata": {},
   "source": [
    "# Substitution"
   ]
  },
  {
   "cell_type": "code",
   "execution_count": null,
   "id": "1d51a997",
   "metadata": {},
   "outputs": [],
   "source": [
    "x = re.compile('\\d{2}')\n",
    "x"
   ]
  },
  {
   "cell_type": "code",
   "execution_count": null,
   "id": "37b67cee",
   "metadata": {},
   "outputs": [],
   "source": [
    "x.subn('\\%',txt)"
   ]
  },
  {
   "cell_type": "code",
   "execution_count": null,
   "id": "65a9e1c2",
   "metadata": {},
   "outputs": [],
   "source": []
  },
  {
   "cell_type": "code",
   "execution_count": null,
   "id": "4e2157eb",
   "metadata": {},
   "outputs": [],
   "source": []
  },
  {
   "cell_type": "markdown",
   "id": "799a059c",
   "metadata": {},
   "source": [
    "# Iterator and generator"
   ]
  },
  {
   "cell_type": "markdown",
   "id": "c014b1c1",
   "metadata": {},
   "source": [
    "#### In Python, the yield keyword is used in a function to define a generator.It is used to return data, one element at a time, from the function. When a function with a yield statement is called, it returns a generator object which can be used to iterate over the data."
   ]
  },
  {
   "cell_type": "code",
   "execution_count": null,
   "id": "4bf38a02",
   "metadata": {},
   "outputs": [],
   "source": [
    "def my_gen():\n",
    "    for i in range(2):\n",
    "        yield i\n"
   ]
  },
  {
   "cell_type": "code",
   "execution_count": null,
   "id": "328fa119",
   "metadata": {},
   "outputs": [],
   "source": [
    "for num in my_gen():\n",
    "    print(num)\n"
   ]
  },
  {
   "cell_type": "code",
   "execution_count": null,
   "id": "4bdf7002",
   "metadata": {},
   "outputs": [],
   "source": [
    "def my_gen():\n",
    "    yield from range(1,10,3)\n",
    "\n",
    "for num in my_gen():\n",
    "    print(num)\n"
   ]
  },
  {
   "cell_type": "markdown",
   "id": "229a8550",
   "metadata": {},
   "source": [
    "### An iterable is an object that can be looped over, and it has an iter() method that returns an iterator. An iterable can be any object that can return an iterator, such as a list, tuple, string, etc."
   ]
  },
  {
   "cell_type": "code",
   "execution_count": null,
   "id": "83e9c08e",
   "metadata": {},
   "outputs": [],
   "source": [
    "my_list = [1, 2, 3]\n",
    "\n",
    "for item in my_list:\n",
    "    print(item)\n"
   ]
  },
  {
   "cell_type": "code",
   "execution_count": null,
   "id": "5e4fcde8",
   "metadata": {},
   "outputs": [],
   "source": [
    "my_iter = iter(my_list)\n",
    "print(next(my_iter)) # prints 1\n",
    "print(next(my_iter)) # prints 2\n",
    "print(next(my_iter)) # prints 3\n"
   ]
  },
  {
   "cell_type": "code",
   "execution_count": null,
   "id": "34c18c1f",
   "metadata": {},
   "outputs": [],
   "source": []
  },
  {
   "cell_type": "code",
   "execution_count": null,
   "id": "c2521e05",
   "metadata": {},
   "outputs": [],
   "source": []
  },
  {
   "cell_type": "markdown",
   "id": "dbb2c569",
   "metadata": {},
   "source": [
    "# logging"
   ]
  },
  {
   "cell_type": "code",
   "execution_count": null,
   "id": "633127e9",
   "metadata": {},
   "outputs": [],
   "source": [
    "'''Severity levels are used to categorize log messages based on their importance or urgency. The built-in logging module in Python defines several levels of severity, including:\n",
    "\n",
    "DEBUG: Used for messages that contain information that is useful for debugging the application. For example, when a variable has an unexpected value, or a function is not returning the expected result.\n",
    "\n",
    "-INFO: Used for messages that provide general information about the application's state. For example, when a user logs in or when a process is completed successfully.\n",
    "\n",
    "-WARNING: Used for messages that indicate a potential problem or error that may occur in the future. For example, when a file is missing or a network connection is lost.\n",
    "\n",
    "-ERROR: Used for messages that indicate an error that has occurred. For example, when an exception is raised or when a file cannot be read.\n",
    "\n",
    "-CRITICAL: Used for messages that indicate a critical error that has occurred. For example, when a database connection is lost or when a system is about to crash.\n",
    "\n",
    "\n",
    "'''"
   ]
  },
  {
   "cell_type": "code",
   "execution_count": null,
   "id": "64cb2d16",
   "metadata": {},
   "outputs": [],
   "source": [
    "import logging\n",
    "\n",
    "logging.debug(\"This is a debug message.\")\n",
    "logging.info(\"This is an info message.\")\n",
    "logging.warning(\"This is a warning message.\")\n",
    "logging.error(\"This is an error message.\")\n",
    "logging.critical(\"This is a critical message.\")\n"
   ]
  },
  {
   "cell_type": "code",
   "execution_count": null,
   "id": "ed366086",
   "metadata": {},
   "outputs": [],
   "source": [
    "# Configure the logging module to output messages to a file called \"application.log\"\n",
    "import logging\n",
    "logging.basicConfig(filename='application.txt', level=logging.DEBUG)"
   ]
  },
  {
   "cell_type": "code",
   "execution_count": null,
   "id": "26eba92f",
   "metadata": {},
   "outputs": [],
   "source": [
    "logging.info('success check')\n",
    "logging.warning(\"The operation returned an invalid result.\")\n",
    "logging.error(\"An exception occurred: %s\")"
   ]
  },
  {
   "cell_type": "code",
   "execution_count": 4,
   "id": "bc475469",
   "metadata": {},
   "outputs": [
    {
     "name": "stdout",
     "output_type": "stream",
     "text": [
      "2023-04-15 14:43:01,355 - DEBUG - User1 logged in. -user1\n",
      "2023-04-15 14:43:01,355 - INFO - User1 performed action A. -user1\n",
      "2023-04-15 14:43:01,355 - DEBUG - User2 logged in. -user2\n",
      "2023-04-15 14:43:01,356 - INFO - User2 performed action B. -user2\n",
      "2023-04-15 14:43:01,356 - ERROR - An error occurred while performing division. -root\n",
      "Traceback (most recent call last):\n",
      "  File \"C:\\Users\\LENOVO\\AppData\\Local\\Temp\\ipykernel_8748\\3207206370.py\", line 31, in <cell line: 30>\n",
      "    result = x / y\n",
      "ZeroDivisionError: division by zero\n",
      "2023-04-15 14:43:01,357 - INFO - Application execution completed. -root\n",
      "2023-04-15 14:43:04,241 - DEBUG - User1 logged in. -user1\n",
      "2023-04-15 14:43:04,242 - INFO - User1 performed action A. -user1\n",
      "2023-04-15 14:43:04,243 - DEBUG - User2 logged in. -user2\n",
      "2023-04-15 14:43:04,243 - INFO - User2 performed action B. -user2\n",
      "2023-04-15 14:43:04,244 - ERROR - An error occurred while performing division. -root\n",
      "Traceback (most recent call last):\n",
      "  File \"C:\\Users\\LENOVO\\AppData\\Local\\Temp\\ipykernel_8748\\3207206370.py\", line 31, in <cell line: 30>\n",
      "    result = x / y\n",
      "ZeroDivisionError: division by zero\n",
      "2023-04-15 14:43:04,245 - INFO - Application execution completed. -root\n",
      "2023-04-15 14:43:06,780 - DEBUG - User1 logged in. -user1\n",
      "2023-04-15 14:43:06,780 - INFO - User1 performed action A. -user1\n",
      "2023-04-15 14:43:06,781 - DEBUG - User2 logged in. -user2\n",
      "2023-04-15 14:43:06,781 - INFO - User2 performed action B. -user2\n",
      "2023-04-15 14:43:06,782 - ERROR - An error occurred while performing division. -root\n",
      "Traceback (most recent call last):\n",
      "  File \"C:\\Users\\LENOVO\\AppData\\Local\\Temp\\ipykernel_8748\\3207206370.py\", line 31, in <cell line: 30>\n",
      "    result = x / y\n",
      "ZeroDivisionError: division by zero\n",
      "2023-04-15 14:43:06,783 - INFO - Application execution completed. -root\n",
      "\n"
     ]
    }
   ],
   "source": [
    "with open('test.txt','r') as file:\n",
    "    x = file.read()\n",
    "    print(x)"
   ]
  },
  {
   "cell_type": "markdown",
   "id": "db928026",
   "metadata": {},
   "source": [
    "# Handlers"
   ]
  },
  {
   "cell_type": "code",
   "execution_count": null,
   "id": "cebdaf48",
   "metadata": {},
   "outputs": [],
   "source": [
    "'''\n",
    "Handlers are an essential part of the logging module in Python. They are responsible for outputting the log messages to the appropriate destination. The logging module provides several built-in handlers, including:\n",
    "\n",
    "logging.StreamHandler: Outputs log messages to the console.\n",
    "\n",
    "logging.FileHandler: Outputs log messages to a file.\n",
    "'''"
   ]
  },
  {
   "cell_type": "code",
   "execution_count": 1,
   "id": "aa0f3bd2",
   "metadata": {},
   "outputs": [
    {
     "name": "stderr",
     "output_type": "stream",
     "text": [
      "2023-04-25 21:50:51,917 - DEBUG - This is a debug message. -root\n",
      "2023-04-25 21:50:51,919 - INFO - This is an info message. -root\n",
      "2023-04-25 21:50:51,920 - WARNING - This is a warning message. -root\n",
      "2023-04-25 21:50:51,921 - ERROR - This is an error message. -root\n",
      "2023-04-25 21:50:51,921 - CRITICAL - This is a critical message. -root\n",
      "2023-04-25 21:50:51,922 - ERROR - An error occurred while performing division. -root\n",
      "Traceback (most recent call last):\n",
      "  File \"C:\\Users\\dhana\\AppData\\Local\\Temp\\ipykernel_3776\\3908222610.py\", line 19, in <cell line: 18>\n",
      "    result = x / y\n",
      "ZeroDivisionError: division by zero\n",
      "2023-04-25 21:50:51,923 - INFO - Application execution completed. -root\n"
     ]
    }
   ],
   "source": [
    "import logging\n",
    "\n",
    "# Configure the logging module\n",
    "logging.basicConfig(level=logging.DEBUG,\n",
    "                    format='%(asctime)s - %(levelname)s - %(message)s -%(name)s',\n",
    "                    handlers=[logging.FileHandler(\"app.log\"), logging.StreamHandler()])\n",
    "\n",
    "# Log some messages\n",
    "logging.debug(\"This is a debug message.\")\n",
    "logging.info(\"This is an info message.\")\n",
    "logging.warning(\"This is a warning message.\")\n",
    "logging.error(\"This is an error message.\")\n",
    "logging.critical(\"This is a critical message.\")\n",
    "\n",
    "# Perform some application logic\n",
    "x = 5\n",
    "y = 0\n",
    "try:\n",
    "    result = x / y\n",
    "except Exception as e:\n",
    "    logging.exception(\"An error occurred while performing division.\")\n",
    "\n",
    "# Log a message indicating the application has completed\n",
    "logging.info(\"Application execution completed.\")\n"
   ]
  },
  {
   "cell_type": "code",
   "execution_count": 3,
   "id": "12f612d0",
   "metadata": {},
   "outputs": [],
   "source": [
    "import logging\n",
    "\n",
    "# Configure the logging module\n",
    "logging.basicConfig(level=logging.DEBUG,\n",
    "                    format='%(asctime)s - %(levelname)s - %(message)s -%(name)s',filename='test.txt')\n",
    "\n",
    "# Create loggers for different users\n",
    "user1_logger = logging.getLogger(\"user1\")\n",
    "user2_logger = logging.getLogger(\"user2\")\n",
    "\n",
    "# Configure the loggers\n",
    "user1_logger.setLevel(logging.DEBUG)\n",
    "user1_logger.addHandler(logging.FileHandler(\"user1.log\"))\n",
    "\n",
    "user2_logger.setLevel(logging.DEBUG)\n",
    "user2_logger.addHandler(logging.FileHandler(\"user2.log\"))\n",
    "\n",
    "# Log activity for user1\n",
    "user1_logger.debug(\"User1 logged in.\")\n",
    "user1_logger.info(\"User1 performed action A.\")\n",
    "\n",
    "# Log activity for user2\n",
    "user2_logger.debug(\"User2 logged in.\")\n",
    "user2_logger.info(\"User2 performed action B.\")\n",
    "\n",
    "\n",
    "# Perform some application logic\n",
    "x = 5\n",
    "y = 0\n",
    "try:\n",
    "    result = x / y\n",
    "except Exception as e:\n",
    "    logging.exception(\"An error occurred while performing division.\")\n",
    "\n",
    "# Log a message indicating the application has completed\n",
    "logging.info(\"Application execution completed.\")\n"
   ]
  },
  {
   "cell_type": "code",
   "execution_count": 5,
   "id": "be83232b",
   "metadata": {},
   "outputs": [
    {
     "name": "stdout",
     "output_type": "stream",
     "text": [
      "User1 logged in.\n",
      "User1 performed action A.\n",
      "User1 logged in.\n",
      "User1 performed action A.\n",
      "User1 logged in.\n",
      "User1 logged in.\n",
      "User1 performed action A.\n",
      "User1 performed action A.\n",
      "User1 logged in.\n",
      "User1 logged in.\n",
      "User1 logged in.\n",
      "User1 performed action A.\n",
      "User1 performed action A.\n",
      "User1 performed action A.\n",
      "User1 logged in.\n",
      "User1 performed action A.\n",
      "User1 logged in.\n",
      "User1 logged in.\n",
      "User1 performed action A.\n",
      "User1 performed action A.\n",
      "User1 logged in.\n",
      "User1 logged in.\n",
      "User1 logged in.\n",
      "User1 performed action A.\n",
      "User1 performed action A.\n",
      "User1 performed action A.\n",
      "\n"
     ]
    }
   ],
   "source": [
    "with open('user1.log','r') as file:\n",
    "    x = file.read()\n",
    "    print(x)"
   ]
  },
  {
   "cell_type": "code",
   "execution_count": null,
   "id": "cbcc9eaa",
   "metadata": {},
   "outputs": [],
   "source": [
    "import logging\n",
    "\n",
    "# Create loggers for different users\n",
    "user1_logger = logging.getLogger(\"user1\")\n",
    "user2_logger = logging.getLogger(\"user2\")\n",
    "\n",
    "# Configure the loggers\n",
    "user1_logger.setLevel(logging.DEBUG)\n",
    "user1_logger.addHandler(logging.FileHandler(\"user1.log\"))\n",
    "\n",
    "user2_logger.setLevel(logging.DEBUG)\n",
    "user2_logger.addHandler(logging.FileHandler(\"user2.log\"))\n",
    "\n",
    "# Log activity for user1\n",
    "user1_logger.debug(\"User1 logged in.\")\n",
    "user1_logger.info(\"User1 performed action A.\")\n",
    "\n",
    "# Log activity for user2\n",
    "user2_logger.debug(\"User2 logged in.\")\n",
    "user2_logger.info(\"User2 performed action B.\")\n"
   ]
  },
  {
   "cell_type": "code",
   "execution_count": 7,
   "id": "70463672",
   "metadata": {},
   "outputs": [
    {
     "name": "stderr",
     "output_type": "stream",
     "text": [
      "2023-04-15 14:46:17,706 - mylogger - ERROR - This is an error message\n",
      "2023-04-15 14:46:17,707 - mylogger - CRITICAL - This is a critical message\n"
     ]
    }
   ],
   "source": [
    "import logging\n",
    "\n",
    "# Create a logger\n",
    "logger = logging.getLogger(\"mylogger\")\n",
    "logger.setLevel(logging.DEBUG)\n",
    "\n",
    "# Create a file handler\n",
    "file_handler = logging.FileHandler(\"mylog.log\")\n",
    "file_handler.setLevel(logging.DEBUG)\n",
    "\n",
    "# Create a console handler\n",
    "console_handler = logging.StreamHandler()\n",
    "console_handler.setLevel(logging.ERROR)\n",
    "\n",
    "# Create a formatter\n",
    "formatter = logging.Formatter(\"%(asctime)s - %(name)s - %(levelname)s - %(message)s\")\n",
    "\n",
    "# Set the formatter for the handlers\n",
    "file_handler.setFormatter(formatter)\n",
    "console_handler.setFormatter(formatter)\n",
    "\n",
    "# Add the handlers to the logger\n",
    "logger.addHandler(file_handler)\n",
    "logger.addHandler(console_handler)\n",
    "\n",
    "# Log messages at different levels\n",
    "logger.debug(\"This is a debug message\")\n",
    "logger.info(\"This is an info message\")\n",
    "logger.warning(\"This is a warning message\")\n",
    "logger.error(\"This is an error message\")\n",
    "logger.critical(\"This is a critical message\")\n"
   ]
  },
  {
   "cell_type": "code",
   "execution_count": null,
   "id": "7bf8841b",
   "metadata": {},
   "outputs": [],
   "source": []
  },
  {
   "cell_type": "code",
   "execution_count": null,
   "id": "d1d553a3",
   "metadata": {},
   "outputs": [],
   "source": [
    "import logging\n",
    "\n",
    "# Configure the logging system\n",
    "logging.basicConfig(level=logging.DEBUG, format='%(asctime)s - %(message)s - %(levelname)s -%(name)s',\n",
    "                   handlers=[logging.FileHandler('normal.txt'),logging.StreamHandler()])\n",
    "\n",
    "# Set the name of the root logger to \"Level0\"\n",
    "logging.getLogger().name = 'Level0'\n",
    "\n",
    "level0 = logging.getLogger('Level0')\n",
    "\n",
    "#custom names\n",
    "level1 = logging.getLogger('level1')\n",
    "level1.setLevel(logging.INFO)\n",
    "\n",
    "level2 = logging.getLogger('level2')\n",
    "level2.setLevel(logging.INFO)\n",
    "\n",
    "#adding handlers\n",
    "filehandler1 = logging.FileHandler('shape.txt')\n",
    "format1 = logging.Formatter('%(message)s - %(name)s')\n",
    "filehandler1.setFormatter(format1)\n",
    "\n",
    "#combining log file and file handlers with add handler\n",
    "level1.addHandler(filehandler1)\n",
    "level1.addHandler(logging.StreamHandler())\n",
    "\n",
    "#custom names and adding handlers\n",
    "filehandler2 = logging.FileHandler('square.txt')\n",
    "format2 = logging.Formatter('%(message)s - %(name)s')\n",
    "filehandler2.setFormatter(format2)\n",
    "level2.addHandler(filehandler2)\n",
    "level2.addHandler(logging.StreamHandler())\n",
    "\n",
    "try:\n",
    "    # Define the Shape class\n",
    "    class Shape:\n",
    "        def area(self):\n",
    "            area = int(input('Shape area: '))\n",
    "            level1.info('Shape area: %s', area)\n",
    "\n",
    "    # Define the Square class\n",
    "    class Square(Shape):\n",
    "        def __init__(self, length):\n",
    "            self.length = length\n",
    "\n",
    "        def area(self):\n",
    "            level2.info('Square area: %s', self.length * self.length)\n",
    "            print(self.length)\n",
    "        \n",
    "except Exception as e:\n",
    "    logging.exception(e)\n",
    "else:\n",
    "    logging.info('Working fine')\n",
    "finally:\n",
    "    logging.info('Completed the execution')\n",
    "    \n",
    "# Create instances of the classes and call their methods\n",
    "check = Shape()\n",
    "check.area()\n",
    "\n",
    "check1 = Square(10)\n",
    "check1.area()\n",
    "print(check1.length)\n"
   ]
  },
  {
   "cell_type": "code",
   "execution_count": null,
   "id": "dcf2d74f",
   "metadata": {},
   "outputs": [],
   "source": []
  },
  {
   "cell_type": "code",
   "execution_count": null,
   "id": "018730ed",
   "metadata": {},
   "outputs": [],
   "source": []
  },
  {
   "cell_type": "markdown",
   "id": "e8534f9f",
   "metadata": {},
   "source": [
    "# Exceptional handling"
   ]
  },
  {
   "cell_type": "markdown",
   "id": "d0f2136c",
   "metadata": {},
   "source": [
    "Exception handling is a process in Python that allows you to handle errors and exceptional conditions in your program without causing it to crash. It allows you to write code that can continue to run even when an error occurs."
   ]
  },
  {
   "cell_type": "code",
   "execution_count": null,
   "id": "04dbc990",
   "metadata": {},
   "outputs": [],
   "source": [
    "'''\n",
    "NameError: When you try to use a variable that has not been defined.\n",
    "TypeError: When you try to perform an operation on objects of incompatible types.\n",
    "ValueError: When a function receives an argument of the correct type, but an inappropriate value.\n",
    "IndexError: When you try to access an index that is out of range for a list or other sequence.\n",
    "KeyError: When you try to access a key that does not exist in a dictionary.\n",
    "ZeroDivisionError: When you try to divide a number by zero.\n",
    "'''"
   ]
  },
  {
   "cell_type": "code",
   "execution_count": null,
   "id": "d9c0cb1f",
   "metadata": {},
   "outputs": [],
   "source": [
    "try:\n",
    "    # code that might raise an exception\n",
    "except ExceptionType1:\n",
    "    # code to handle the exception of type ExceptionType1\n",
    "except ExceptionType2:\n",
    "    # code to handle the exception of type ExceptionType2\n",
    "else:\n",
    "    # code to execute if no exception is raised\n",
    "finally:\n",
    "    # code to execute regardless of whether an exception is raised or not\n"
   ]
  },
  {
   "cell_type": "code",
   "execution_count": 4,
   "id": "2e47034b",
   "metadata": {},
   "outputs": [
    {
     "name": "stdout",
     "output_type": "stream",
     "text": [
      "Enter a number: '2'\n",
      "You did not enter a valid number\n",
      "Thank you for using this program!\n"
     ]
    }
   ],
   "source": [
    "try:\n",
    "    x = int(input(\"Enter a number: \"))\n",
    "    y = 1 / x\n",
    "except ValueError:\n",
    "    print(\"You did not enter a valid number\")\n",
    "except ZeroDivisionError:\n",
    "    print(\"Division by zero is not allowed\")\n",
    "else:\n",
    "    print(\"The result is\", y)\n",
    "finally:\n",
    "    print(\"Thank you for using this program!\")\n"
   ]
  },
  {
   "cell_type": "code",
   "execution_count": 5,
   "id": "badc40bb",
   "metadata": {},
   "outputs": [
    {
     "name": "stdout",
     "output_type": "stream",
     "text": [
      "Cannot divide by zero.\n",
      "Invalid value provided.\n",
      "File not found.\n",
      "List index out of range.\n",
      "Key not found in dictionary.\n",
      "Assertion Error: math is broken.\n",
      "An error occurred: can only concatenate str (not \"int\") to str\n",
      "Custom exception occurred: Custom exception message.\n"
     ]
    }
   ],
   "source": [
    "# Example 1: Division by Zero\n",
    "try:\n",
    "    x = 1 / 0\n",
    "except ZeroDivisionError:\n",
    "    print(\"Cannot divide by zero.\")\n",
    "\n",
    "# Example 2: Value Error\n",
    "try:\n",
    "    y = int(\"abc\")\n",
    "except ValueError:\n",
    "    print(\"Invalid value provided.\")\n",
    "\n",
    "# Example 3: File Not Found\n",
    "try:\n",
    "    with open(\"non_existent_file.txt\", \"r\") as file:\n",
    "        contents = file.read()\n",
    "except FileNotFoundError:\n",
    "    print(\"File not found.\")\n",
    "\n",
    "# Example 4: IndexError\n",
    "try:\n",
    "    my_list = [1, 2, 3]\n",
    "    print(my_list[3])\n",
    "except IndexError:\n",
    "    print(\"List index out of range.\")\n",
    "\n",
    "# Example 5: KeyError\n",
    "try:\n",
    "    my_dict = {\"a\": 1, \"b\": 2}\n",
    "    print(my_dict[\"c\"])\n",
    "except KeyError:\n",
    "    print(\"Key not found in dictionary.\")\n",
    "\n",
    "# Example 6: Assertion Error\n",
    "try:\n",
    "    assert 1 + 1 == 3, \"math is broken\"\n",
    "except AssertionError:\n",
    "    print(\"Assertion Error: math is broken.\")\n",
    "\n",
    "# Example 7: Exception\n",
    "try:\n",
    "    x = \"hello\" + 1\n",
    "except Exception as e:\n",
    "    print(\"An error occurred:\", e)\n",
    "\n",
    "# Example 8: custom Exception\n",
    "class MyException(Exception):\n",
    "    pass\n",
    "try:\n",
    "    raise MyException(\"Custom exception message.\")\n",
    "except MyException as e:\n",
    "    print(\"Custom exception occurred:\", e)\n"
   ]
  },
  {
   "cell_type": "code",
   "execution_count": null,
   "id": "3f943dc7",
   "metadata": {},
   "outputs": [],
   "source": []
  },
  {
   "cell_type": "markdown",
   "id": "35f4981a",
   "metadata": {},
   "source": [
    "# map filter reduce"
   ]
  },
  {
   "cell_type": "code",
   "execution_count": null,
   "id": "691cf48f",
   "metadata": {},
   "outputs": [],
   "source": [
    "'''\n",
    "map(): You can use map() when you need to apply a function to each element of a sequence and create a new sequence with the results. For example, if you have a list of Celsius temperatures and need to convert them to Fahrenheit, you can use map() to apply the conversion formula to each temperature and create a new list of Fahrenheit temperatures.\n",
    "\n",
    "filter(): You can use filter() when you need to create a new sequence that contains only the elements of an existing sequence that satisfy a certain condition. For example, if you have a list of numbers and need to create a new list that contains only the even numbers, you can use filter() to apply a function that checks if each number is even and create a new list with only the even numbers.\n",
    "\n",
    "reduce(): You can use reduce() when you need to perform a computation on a sequence and return a single value. For example, if you have a list of numbers and need to compute the product of all the numbers, you can use reduce() to apply a function that multiplies each number with the previous result and return the final product.\n",
    "\n",
    "These functions can help simplify your code and make it more readable by reducing the amount of code you need to write and improving its clarity.\n",
    "\n",
    "'''"
   ]
  },
  {
   "cell_type": "code",
   "execution_count": 6,
   "id": "6e88d5c1",
   "metadata": {},
   "outputs": [
    {
     "name": "stdout",
     "output_type": "stream",
     "text": [
      "[2, 4, 6, 8, 10]\n"
     ]
    }
   ],
   "source": [
    "def double(x):\n",
    "    return x * 2\n",
    "\n",
    "numbers = [1, 2, 3, 4, 5]\n",
    "doubles = map(double, numbers)\n",
    "print(list(doubles)) # Output: [2, 4, 6, 8, 10]\n"
   ]
  },
  {
   "cell_type": "code",
   "execution_count": 7,
   "id": "50aac290",
   "metadata": {},
   "outputs": [
    {
     "name": "stdout",
     "output_type": "stream",
     "text": [
      "[2, 4]\n"
     ]
    }
   ],
   "source": [
    "def is_even(x):\n",
    "    return x % 2 == 0\n",
    "\n",
    "numbers = [1, 2, 3, 4, 5]\n",
    "evens = filter(is_even, numbers)\n",
    "print(list(evens)) # Output: [2, 4]\n"
   ]
  },
  {
   "cell_type": "code",
   "execution_count": 8,
   "id": "f02de293",
   "metadata": {},
   "outputs": [
    {
     "name": "stdout",
     "output_type": "stream",
     "text": [
      "120\n"
     ]
    }
   ],
   "source": [
    "from functools import reduce\n",
    "\n",
    "def multiply(x, y):\n",
    "    return x * y\n",
    "\n",
    "numbers = [1, 2, 3, 4, 5]\n",
    "product = reduce(multiply, numbers)\n",
    "print(product) # Output: 120\n"
   ]
  },
  {
   "cell_type": "code",
   "execution_count": null,
   "id": "7eea2aef",
   "metadata": {},
   "outputs": [],
   "source": []
  },
  {
   "cell_type": "code",
   "execution_count": null,
   "id": "22a61f33",
   "metadata": {},
   "outputs": [],
   "source": []
  }
 ],
 "metadata": {
  "kernelspec": {
   "display_name": "Python 3 (ipykernel)",
   "language": "python",
   "name": "python3"
  },
  "language_info": {
   "codemirror_mode": {
    "name": "ipython",
    "version": 3
   },
   "file_extension": ".py",
   "mimetype": "text/x-python",
   "name": "python",
   "nbconvert_exporter": "python",
   "pygments_lexer": "ipython3",
   "version": "3.9.12"
  }
 },
 "nbformat": 4,
 "nbformat_minor": 5
}
